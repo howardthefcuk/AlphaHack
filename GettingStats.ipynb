{
 "cells": [
  {
   "cell_type": "code",
   "execution_count": 49,
   "metadata": {
    "collapsed": true
   },
   "outputs": [],
   "source": [
    "# Inspect and Analyse\n",
    "\n",
    "import pandas\n",
    "from collections import defaultdict\n",
    "import json"
   ]
  },
  {
   "cell_type": "code",
   "execution_count": null,
   "metadata": {
    "scrolled": false
   },
   "outputs": [],
   "source": [
    "a = pandas.read_csv(\"CardsOperations.csv\",sep=\";\",error_bad_lines=False, encoding = \"ISO-8859-1\")"
   ]
  },
  {
   "cell_type": "code",
   "execution_count": 5,
   "metadata": {},
   "outputs": [
    {
     "data": {
      "text/html": [
       "<div>\n",
       "<style>\n",
       "    .dataframe thead tr:only-child th {\n",
       "        text-align: right;\n",
       "    }\n",
       "\n",
       "    .dataframe thead th {\n",
       "        text-align: left;\n",
       "    }\n",
       "\n",
       "    .dataframe tbody tr th {\n",
       "        vertical-align: top;\n",
       "    }\n",
       "</style>\n",
       "<table border=\"1\" class=\"dataframe\">\n",
       "  <thead>\n",
       "    <tr style=\"text-align: right;\">\n",
       "      <th></th>\n",
       "      <th>CLIENT_UK</th>\n",
       "      <th>CARD_UK</th>\n",
       "      <th>ACCOUNT_UK</th>\n",
       "      <th>OPERATION_CURRENCY</th>\n",
       "      <th>COUNTRY_CCODE</th>\n",
       "      <th>MCC_CCODE</th>\n",
       "      <th>MCC_DESCRIPTION</th>\n",
       "      <th>MRC_NK</th>\n",
       "      <th>MRC_NAME</th>\n",
       "      <th>CARDTRNOPKIND_CCODE</th>\n",
       "      <th>CARD_OPERATION_CCODE</th>\n",
       "      <th>CARD_OPERATION_NAME</th>\n",
       "      <th>OPDATE_TIME</th>\n",
       "      <th>OPERATION_CUR_AMT</th>\n",
       "      <th>SUMMARUR_AMT</th>\n",
       "    </tr>\n",
       "  </thead>\n",
       "  <tbody>\n",
       "    <tr>\n",
       "      <th>0</th>\n",
       "      <td>33828007872</td>\n",
       "      <td>43266132958</td>\n",
       "      <td>33832184822</td>\n",
       "      <td>RUR</td>\n",
       "      <td>RUS</td>\n",
       "      <td>5541</td>\n",
       "      <td>Service stations</td>\n",
       "      <td>1329103684</td>\n",
       "      <td>RNAZK 180 VNP</td>\n",
       "      <td>PURCH</td>\n",
       "      <td>TPTP101</td>\n",
       "      <td>Europay retail</td>\n",
       "      <td>17-55-2017 02:55:41</td>\n",
       "      <td>862.22</td>\n",
       "      <td>862.22</td>\n",
       "    </tr>\n",
       "    <tr>\n",
       "      <th>1</th>\n",
       "      <td>5525093601</td>\n",
       "      <td>38740164759</td>\n",
       "      <td>5590464063</td>\n",
       "      <td>RUR</td>\n",
       "      <td>RUS</td>\n",
       "      <td>4900</td>\n",
       "      <td>Utilities-electric,gas,water</td>\n",
       "      <td>1337813696</td>\n",
       "      <td>PAY.MCPLAT</td>\n",
       "      <td>PURCH</td>\n",
       "      <td>TPTP101</td>\n",
       "      <td>Europay retail</td>\n",
       "      <td>16-17-2017 09:17:06</td>\n",
       "      <td>3943.87</td>\n",
       "      <td>3943.87</td>\n",
       "    </tr>\n",
       "    <tr>\n",
       "      <th>2</th>\n",
       "      <td>34844690974</td>\n",
       "      <td>34896151827</td>\n",
       "      <td>34848702402</td>\n",
       "      <td>RUR</td>\n",
       "      <td>RUS</td>\n",
       "      <td>5814</td>\n",
       "      <td>Fast food res. (Quick P S P)</td>\n",
       "      <td>18012897</td>\n",
       "      <td>MCDONALDS 21079</td>\n",
       "      <td>PURCH</td>\n",
       "      <td>TPTP101</td>\n",
       "      <td>Europay retail</td>\n",
       "      <td>17-32-2017 03:32:31</td>\n",
       "      <td>412.00</td>\n",
       "      <td>412.00</td>\n",
       "    </tr>\n",
       "    <tr>\n",
       "      <th>3</th>\n",
       "      <td>5527394345</td>\n",
       "      <td>41058133392</td>\n",
       "      <td>5584919189</td>\n",
       "      <td>RUR</td>\n",
       "      <td>RUS</td>\n",
       "      <td>5411</td>\n",
       "      <td>Grocery stores,supermarkets</td>\n",
       "      <td>1916643026</td>\n",
       "      <td>TABRIS N11</td>\n",
       "      <td>PURCH</td>\n",
       "      <td>TPTP101</td>\n",
       "      <td>Europay retail</td>\n",
       "      <td>15-49-2017 10:49:56</td>\n",
       "      <td>404.00</td>\n",
       "      <td>404.00</td>\n",
       "    </tr>\n",
       "    <tr>\n",
       "      <th>4</th>\n",
       "      <td>5529714142</td>\n",
       "      <td>33107706156</td>\n",
       "      <td>22924129710</td>\n",
       "      <td>RUR</td>\n",
       "      <td>RUS</td>\n",
       "      <td>7011</td>\n",
       "      <td>Hotels,Motels,Resorts-Lodgin</td>\n",
       "      <td>752375701</td>\n",
       "      <td>OOO ARIOLI</td>\n",
       "      <td>PURCH</td>\n",
       "      <td>TPTP101</td>\n",
       "      <td>Europay retail</td>\n",
       "      <td>18-11-2017 04:11:06</td>\n",
       "      <td>3000.00</td>\n",
       "      <td>3000.00</td>\n",
       "    </tr>\n",
       "  </tbody>\n",
       "</table>\n",
       "</div>"
      ],
      "text/plain": [
       "     CLIENT_UK      CARD_UK   ACCOUNT_UK OPERATION_CURRENCY COUNTRY_CCODE  \\\n",
       "0  33828007872  43266132958  33832184822                RUR           RUS   \n",
       "1   5525093601  38740164759   5590464063                RUR           RUS   \n",
       "2  34844690974  34896151827  34848702402                RUR           RUS   \n",
       "3   5527394345  41058133392   5584919189                RUR           RUS   \n",
       "4   5529714142  33107706156  22924129710                RUR           RUS   \n",
       "\n",
       "  MCC_CCODE               MCC_DESCRIPTION      MRC_NK         MRC_NAME  \\\n",
       "0      5541              Service stations  1329103684    RNAZK 180 VNP   \n",
       "1      4900  Utilities-electric,gas,water  1337813696       PAY.MCPLAT   \n",
       "2      5814  Fast food res. (Quick P S P)    18012897  MCDONALDS 21079   \n",
       "3      5411   Grocery stores,supermarkets  1916643026       TABRIS N11   \n",
       "4      7011  Hotels,Motels,Resorts-Lodgin   752375701       OOO ARIOLI   \n",
       "\n",
       "  CARDTRNOPKIND_CCODE CARD_OPERATION_CCODE CARD_OPERATION_NAME  \\\n",
       "0               PURCH              TPTP101      Europay retail   \n",
       "1               PURCH              TPTP101      Europay retail   \n",
       "2               PURCH              TPTP101      Europay retail   \n",
       "3               PURCH              TPTP101      Europay retail   \n",
       "4               PURCH              TPTP101      Europay retail   \n",
       "\n",
       "           OPDATE_TIME  OPERATION_CUR_AMT  SUMMARUR_AMT  \n",
       "0  17-55-2017 02:55:41             862.22        862.22  \n",
       "1  16-17-2017 09:17:06            3943.87       3943.87  \n",
       "2  17-32-2017 03:32:31             412.00        412.00  \n",
       "3  15-49-2017 10:49:56             404.00        404.00  \n",
       "4  18-11-2017 04:11:06            3000.00       3000.00  "
      ]
     },
     "execution_count": 5,
     "metadata": {},
     "output_type": "execute_result"
    }
   ],
   "source": [
    "a.head()"
   ]
  },
  {
   "cell_type": "code",
   "execution_count": null,
   "metadata": {
    "scrolled": true
   },
   "outputs": [],
   "source": [
    "pandas.unique(a[\"COUNTRY_CCODE\"])"
   ]
  },
  {
   "cell_type": "code",
   "execution_count": null,
   "metadata": {
    "scrolled": false
   },
   "outputs": [],
   "source": [
    "pandas.unique(a[\"MCC_DESCRIPTION\"])"
   ]
  },
  {
   "cell_type": "code",
   "execution_count": 8,
   "metadata": {},
   "outputs": [
    {
     "data": {
      "text/html": [
       "<div>\n",
       "<style>\n",
       "    .dataframe thead tr:only-child th {\n",
       "        text-align: right;\n",
       "    }\n",
       "\n",
       "    .dataframe thead th {\n",
       "        text-align: left;\n",
       "    }\n",
       "\n",
       "    .dataframe tbody tr th {\n",
       "        vertical-align: top;\n",
       "    }\n",
       "</style>\n",
       "<table border=\"1\" class=\"dataframe\">\n",
       "  <thead>\n",
       "    <tr style=\"text-align: right;\">\n",
       "      <th></th>\n",
       "      <th>CLIENT_UK</th>\n",
       "      <th>CARD_UK</th>\n",
       "      <th>ACCOUNT_UK</th>\n",
       "      <th>OPERATION_CURRENCY</th>\n",
       "      <th>COUNTRY_CCODE</th>\n",
       "      <th>MCC_CCODE</th>\n",
       "      <th>MCC_DESCRIPTION</th>\n",
       "      <th>MRC_NK</th>\n",
       "      <th>MRC_NAME</th>\n",
       "      <th>CARDTRNOPKIND_CCODE</th>\n",
       "      <th>CARD_OPERATION_CCODE</th>\n",
       "      <th>CARD_OPERATION_NAME</th>\n",
       "      <th>OPDATE_TIME</th>\n",
       "      <th>OPERATION_CUR_AMT</th>\n",
       "      <th>SUMMARUR_AMT</th>\n",
       "    </tr>\n",
       "  </thead>\n",
       "  <tbody>\n",
       "    <tr>\n",
       "      <th>5</th>\n",
       "      <td>23876695556</td>\n",
       "      <td>37616752360</td>\n",
       "      <td>30233780448</td>\n",
       "      <td>EUR</td>\n",
       "      <td>DEU</td>\n",
       "      <td>5541</td>\n",
       "      <td>Service stations</td>\n",
       "      <td>3958404</td>\n",
       "      <td>ARAL STATION 120810148</td>\n",
       "      <td>PURCH</td>\n",
       "      <td>TPTP101</td>\n",
       "      <td>Europay retail</td>\n",
       "      <td>17-19-2017 01:19:18</td>\n",
       "      <td>60.86</td>\n",
       "      <td>4047.820000</td>\n",
       "    </tr>\n",
       "    <tr>\n",
       "      <th>743</th>\n",
       "      <td>33667629829</td>\n",
       "      <td>33676798954</td>\n",
       "      <td>33671474254</td>\n",
       "      <td>EUR</td>\n",
       "      <td>DEU</td>\n",
       "      <td>5309</td>\n",
       "      <td>Duty free Stores</td>\n",
       "      <td>5643431</td>\n",
       "      <td>HEINEMANN DUTY FREE</td>\n",
       "      <td>PURCH</td>\n",
       "      <td>TPTP101</td>\n",
       "      <td>Europay retail</td>\n",
       "      <td>18-47-2017 01:47:55</td>\n",
       "      <td>44.00</td>\n",
       "      <td>2926.320000</td>\n",
       "    </tr>\n",
       "    <tr>\n",
       "      <th>751</th>\n",
       "      <td>5524235920</td>\n",
       "      <td>31878124667</td>\n",
       "      <td>5615657422</td>\n",
       "      <td>RUR</td>\n",
       "      <td>DEU</td>\n",
       "      <td>5999</td>\n",
       "      <td>Miscellaneous &amp; specialty re</td>\n",
       "      <td>575398</td>\n",
       "      <td>PAYPAL *ELEMENT5 WWW.E</td>\n",
       "      <td>PURCH</td>\n",
       "      <td>TPTP101</td>\n",
       "      <td>Europay retail</td>\n",
       "      <td>25-50-2017 01:50:14</td>\n",
       "      <td>2525.84</td>\n",
       "      <td>2525.840000</td>\n",
       "    </tr>\n",
       "    <tr>\n",
       "      <th>792</th>\n",
       "      <td>22527428082</td>\n",
       "      <td>34922938957</td>\n",
       "      <td>34920900934</td>\n",
       "      <td>EUR</td>\n",
       "      <td>DEU</td>\n",
       "      <td>5411</td>\n",
       "      <td>Grocery stores,supermarkets</td>\n",
       "      <td>46238</td>\n",
       "      <td>ALDI GMBH &amp; CO.KG</td>\n",
       "      <td>PURCH</td>\n",
       "      <td>TPTP101</td>\n",
       "      <td>Europay retail</td>\n",
       "      <td>24-02-2017 03:02:54</td>\n",
       "      <td>9.77</td>\n",
       "      <td>645.617232</td>\n",
       "    </tr>\n",
       "    <tr>\n",
       "      <th>1660</th>\n",
       "      <td>5527688423</td>\n",
       "      <td>33153796953</td>\n",
       "      <td>5587617894</td>\n",
       "      <td>EUR</td>\n",
       "      <td>DEU</td>\n",
       "      <td>5311</td>\n",
       "      <td>Department stores</td>\n",
       "      <td>3128</td>\n",
       "      <td>GALERIA KAUFHOF</td>\n",
       "      <td>PURCH</td>\n",
       "      <td>TPTP101</td>\n",
       "      <td>Europay retail</td>\n",
       "      <td>24-42-2017 10:42:30</td>\n",
       "      <td>5.98</td>\n",
       "      <td>395.167968</td>\n",
       "    </tr>\n",
       "  </tbody>\n",
       "</table>\n",
       "</div>"
      ],
      "text/plain": [
       "        CLIENT_UK      CARD_UK   ACCOUNT_UK OPERATION_CURRENCY COUNTRY_CCODE  \\\n",
       "5     23876695556  37616752360  30233780448                EUR           DEU   \n",
       "743   33667629829  33676798954  33671474254                EUR           DEU   \n",
       "751    5524235920  31878124667   5615657422                RUR           DEU   \n",
       "792   22527428082  34922938957  34920900934                EUR           DEU   \n",
       "1660   5527688423  33153796953   5587617894                EUR           DEU   \n",
       "\n",
       "     MCC_CCODE               MCC_DESCRIPTION   MRC_NK                MRC_NAME  \\\n",
       "5         5541              Service stations  3958404  ARAL STATION 120810148   \n",
       "743       5309              Duty free Stores  5643431     HEINEMANN DUTY FREE   \n",
       "751       5999  Miscellaneous & specialty re   575398  PAYPAL *ELEMENT5 WWW.E   \n",
       "792       5411   Grocery stores,supermarkets    46238       ALDI GMBH & CO.KG   \n",
       "1660      5311             Department stores     3128         GALERIA KAUFHOF   \n",
       "\n",
       "     CARDTRNOPKIND_CCODE CARD_OPERATION_CCODE CARD_OPERATION_NAME  \\\n",
       "5                  PURCH              TPTP101      Europay retail   \n",
       "743                PURCH              TPTP101      Europay retail   \n",
       "751                PURCH              TPTP101      Europay retail   \n",
       "792                PURCH              TPTP101      Europay retail   \n",
       "1660               PURCH              TPTP101      Europay retail   \n",
       "\n",
       "              OPDATE_TIME  OPERATION_CUR_AMT  SUMMARUR_AMT  \n",
       "5     17-19-2017 01:19:18              60.86   4047.820000  \n",
       "743   18-47-2017 01:47:55              44.00   2926.320000  \n",
       "751   25-50-2017 01:50:14            2525.84   2525.840000  \n",
       "792   24-02-2017 03:02:54               9.77    645.617232  \n",
       "1660  24-42-2017 10:42:30               5.98    395.167968  "
      ]
     },
     "execution_count": 8,
     "metadata": {},
     "output_type": "execute_result"
    }
   ],
   "source": [
    "a[a[\"COUNTRY_CCODE\"]==\"DEU\"].head()"
   ]
  },
  {
   "cell_type": "code",
   "execution_count": 17,
   "metadata": {
    "collapsed": true
   },
   "outputs": [],
   "source": [
    "mean = a.groupby(['COUNTRY_CCODE', 'MCC_DESCRIPTION'])['SUMMARUR_AMT'].mean()"
   ]
  },
  {
   "cell_type": "code",
   "execution_count": 20,
   "metadata": {
    "collapsed": true
   },
   "outputs": [],
   "source": [
    "minn = a.groupby(['COUNTRY_CCODE', 'MCC_DESCRIPTION'])['SUMMARUR_AMT'].quantile(q=0.25)"
   ]
  },
  {
   "cell_type": "code",
   "execution_count": 21,
   "metadata": {
    "collapsed": true
   },
   "outputs": [],
   "source": [
    "maxx = a.groupby(['COUNTRY_CCODE', 'MCC_DESCRIPTION'])['SUMMARUR_AMT'].quantile(q=0.75)"
   ]
  },
  {
   "cell_type": "code",
   "execution_count": 13,
   "metadata": {},
   "outputs": [
    {
     "data": {
      "text/plain": [
       "'0.20.3'"
      ]
     },
     "execution_count": 13,
     "metadata": {},
     "output_type": "execute_result"
    }
   ],
   "source": [
    "pandas.__version__\n"
   ]
  },
  {
   "cell_type": "code",
   "execution_count": 18,
   "metadata": {},
   "outputs": [
    {
     "data": {
      "text/plain": [
       "pandas.core.series.Series"
      ]
     },
     "execution_count": 18,
     "metadata": {},
     "output_type": "execute_result"
    }
   ],
   "source": [
    "type(mean)"
   ]
  },
  {
   "cell_type": "code",
   "execution_count": 22,
   "metadata": {
    "collapsed": true
   },
   "outputs": [],
   "source": [
    "meanDict = mean.to_dict()"
   ]
  },
  {
   "cell_type": "code",
   "execution_count": 23,
   "metadata": {
    "collapsed": true
   },
   "outputs": [],
   "source": [
    "maxxDict = maxx.to_dict()"
   ]
  },
  {
   "cell_type": "code",
   "execution_count": 24,
   "metadata": {
    "collapsed": true
   },
   "outputs": [],
   "source": [
    "minnDict = minn.to_dict()"
   ]
  },
  {
   "cell_type": "code",
   "execution_count": null,
   "metadata": {},
   "outputs": [],
   "source": [
    "meanGrDict = defaultdict"
   ]
  },
  {
   "cell_type": "code",
   "execution_count": 28,
   "metadata": {
    "collapsed": true
   },
   "outputs": [],
   "source": [
    "\n"
   ]
  },
  {
   "cell_type": "code",
   "execution_count": 35,
   "metadata": {
    "collapsed": true
   },
   "outputs": [],
   "source": [
    "ç\n",
    "for i in meanDict:\n",
    "    meanFinal[i[0]][i[1]] = meanDict[i]"
   ]
  },
  {
   "cell_type": "code",
   "execution_count": 36,
   "metadata": {
    "collapsed": true
   },
   "outputs": [],
   "source": [
    "minnFinal = defaultdict(lambda : defaultdict(float))\n",
    "for i in meanDict:\n",
    "    minnFinal[i[0]][i[1]] = minnDict[i]"
   ]
  },
  {
   "cell_type": "code",
   "execution_count": 37,
   "metadata": {
    "collapsed": true
   },
   "outputs": [],
   "source": [
    "maxxFinal = defaultdict(lambda : defaultdict(float))\n",
    "for i in meanDict:\n",
    "    maxxFinal[i[0]][i[1]] = maxxDict[i]"
   ]
  },
  {
   "cell_type": "code",
   "execution_count": 47,
   "metadata": {
    "collapsed": true
   },
   "outputs": [],
   "source": [
    "res = defaultdict(lambda : defaultdict(float))\n",
    "for i in maxxFinal:\n",
    "    for q in maxxFinal[i]:\n",
    "        res[i][q] = [minnFinal[i][q],meanFinal[i][q],maxxFinal[i][q]]"
   ]
  },
  {
   "cell_type": "code",
   "execution_count": 51,
   "metadata": {
    "collapsed": true
   },
   "outputs": [],
   "source": [
    "toPrint= json.dumps(res)"
   ]
  },
  {
   "cell_type": "code",
   "execution_count": 54,
   "metadata": {
    "collapsed": true
   },
   "outputs": [],
   "source": [
    "f = open(\"dataToUse.json\",\"w\")\n"
   ]
  },
  {
   "cell_type": "code",
   "execution_count": 55,
   "metadata": {},
   "outputs": [
    {
     "data": {
      "text/plain": [
       "966615"
      ]
     },
     "execution_count": 55,
     "metadata": {},
     "output_type": "execute_result"
    }
   ],
   "source": [
    "f.write(toPrint)"
   ]
  },
  {
   "cell_type": "code",
   "execution_count": null,
   "metadata": {
    "collapsed": true
   },
   "outputs": [],
   "source": []
  }
 ],
 "metadata": {
  "kernelspec": {
   "display_name": "Python 3",
   "language": "python",
   "name": "python3"
  },
  "language_info": {
   "codemirror_mode": {
    "name": "ipython",
    "version": 3
   },
   "file_extension": ".py",
   "mimetype": "text/x-python",
   "name": "python",
   "nbconvert_exporter": "python",
   "pygments_lexer": "ipython3",
   "version": "3.6.1"
  }
 },
 "nbformat": 4,
 "nbformat_minor": 2
}
